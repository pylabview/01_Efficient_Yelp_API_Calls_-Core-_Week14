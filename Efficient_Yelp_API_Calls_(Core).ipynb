{
 "cells": [
  {
   "cell_type": "markdown",
   "id": "c4df1525-5b65-4249-9d5c-5e5ef6b1d186",
   "metadata": {},
   "source": [
    "# Efficient Yelp API Calls (Core)\n",
    "\n",
    "Rodrigo Arguello-Serrano"
   ]
  },
  {
   "cell_type": "markdown",
   "id": "de771f47-94e6-46c3-981c-87963d862cc7",
   "metadata": {},
   "source": [
    "## Adding Safeguards to our Data Extraction Workflow"
   ]
  },
  {
   "cell_type": "markdown",
   "id": "cd713d7e-a65a-4ae3-bf84-020f02a2a3ef",
   "metadata": {},
   "source": [
    "### Imports"
   ]
  },
  {
   "cell_type": "code",
   "execution_count": 19,
   "id": "7bd41fd6-382c-4f53-8752-ffec96d8e39d",
   "metadata": {},
   "outputs": [],
   "source": [
    "# Standard Imports\n",
    "import numpy as np\n",
    "import pandas as pd\n",
    "import matplotlib.pyplot as plt\n",
    "import seaborn as sns\n",
    "# Additional Imports\n",
    "import os, json, math, time\n",
    "from yelpapi import YelpAPI\n",
    "from tqdm.notebook import tqdm_notebook"
   ]
  },
  {
   "cell_type": "markdown",
   "id": "845d5f74-9a71-4954-8fef-7a6943a26ee3",
   "metadata": {},
   "source": [
    "### Crendiantials and Accessing API"
   ]
  },
  {
   "cell_type": "code",
   "execution_count": 20,
   "id": "6e53a5b3-c530-43d3-ac6f-17d9b6636771",
   "metadata": {},
   "outputs": [],
   "source": [
    "# Load API Credentials\n",
    "with open('/Users/rodrigoarguelloserrano/.secret/yelp_api.json') as f:   #use your path here!\n",
    "    login = json.load(f)\n",
    "# Instantiate YelpAPI Variable\n",
    "yelp_api = YelpAPI(login['api-key'], timeout_s=5.0)"
   ]
  },
  {
   "cell_type": "markdown",
   "id": "7221d2b6-5ce4-4459-96cc-90d5e2a6be87",
   "metadata": {},
   "source": [
    "### Defining search"
   ]
  },
  {
   "cell_type": "code",
   "execution_count": 24,
   "id": "4fa4954a-46fe-43c9-8d41-efdf481ce1f8",
   "metadata": {},
   "outputs": [],
   "source": [
    "# set our API call parameters \n",
    "LOCATION = 'Livermore,CA'\n",
    "TERM = 'Sushi'"
   ]
  },
  {
   "cell_type": "markdown",
   "id": "dafad183-0e31-401a-96b5-602c517eb139",
   "metadata": {},
   "source": [
    "### Create a results-in-progress JSON file, but only if it doesn't exist."
   ]
  },
  {
   "cell_type": "code",
   "execution_count": 25,
   "id": "943c64eb-c149-4dc6-8523-10f4a8046747",
   "metadata": {},
   "outputs": [
    {
     "data": {
      "text/plain": [
       "'Data/results_in_progress_Livermore_sushi.json'"
      ]
     },
     "execution_count": 25,
     "metadata": {},
     "output_type": "execute_result"
    }
   ],
   "source": [
    "# Specifying JSON_FILE filename (can include a folder)\n",
    "# include the search terms in the filename\n",
    "JSON_FILE = \"Data/results_in_progress_Livermore_sushi.json\"\n",
    "JSON_FILE\n",
    "\n"
   ]
  },
  {
   "cell_type": "markdown",
   "id": "c356e8f3-85f5-4f62-9332-cbb32220e979",
   "metadata": {},
   "source": [
    "> Check if our JSON_FILE already exists. This will prevent us from accidentally overwriting an existing file.\n",
    "\n",
    "> If it doesn't exist:\n",
    "\n",
    ">Create any folders needed for the file path.\n",
    "Save an empty list as JSON_File"
   ]
  },
  {
   "cell_type": "markdown",
   "id": "3284edb3-1e7d-4593-afe1-e4e062e076f6",
   "metadata": {},
   "source": [
    "### Figure out how many pages of results we will need"
   ]
  },
  {
   "cell_type": "code",
   "execution_count": 33,
   "id": "56a74604-18fc-47b2-a79f-32b3f8614fe8",
   "metadata": {},
   "outputs": [
    {
     "data": {
      "text/plain": [
       "dict_keys(['businesses', 'total', 'region'])"
      ]
     },
     "execution_count": 33,
     "metadata": {},
     "output_type": "execute_result"
    }
   ],
   "source": [
    "# use our yelp_api variable's search_query method to perform our API call\n",
    "results = yelp_api.search_query(location=LOCATION,\n",
    "                                term=TERM,\n",
    "                               offset=n_results)\n",
    "results.keys()"
   ]
  },
  {
   "cell_type": "code",
   "execution_count": 34,
   "id": "f5eca06e-40d6-4030-a065-f77357d20d60",
   "metadata": {},
   "outputs": [
    {
     "data": {
      "text/plain": [
       "155"
      ]
     },
     "execution_count": 34,
     "metadata": {},
     "output_type": "execute_result"
    }
   ],
   "source": [
    "## How many results total?\n",
    "total_results = results['total']\n",
    "total_results\n",
    "\n"
   ]
  },
  {
   "cell_type": "code",
   "execution_count": 35,
   "id": "3bd8872a-1462-40b8-9c7f-87ccfdebd630",
   "metadata": {},
   "outputs": [
    {
     "data": {
      "text/plain": [
       "20"
      ]
     },
     "execution_count": 35,
     "metadata": {},
     "output_type": "execute_result"
    }
   ],
   "source": [
    "## How many did we get the details for?\n",
    "results_per_page = len(results['businesses'])\n",
    "results_per_page"
   ]
  },
  {
   "cell_type": "code",
   "execution_count": 36,
   "id": "c96dbaeb-d0ed-463e-bbe0-12ed9767332d",
   "metadata": {},
   "outputs": [
    {
     "data": {
      "text/plain": [
       "8"
      ]
     },
     "execution_count": 36,
     "metadata": {},
     "output_type": "execute_result"
    }
   ],
   "source": [
    "# Import additional packages for controlling our loop\n",
    "import time, math\n",
    "# Use math.ceil to round up for the total number of pages of results.\n",
    "n_pages = math.ceil((results['total']-n_results)/ results_per_page)\n",
    "n_pages"
   ]
  },
  {
   "cell_type": "code",
   "execution_count": 37,
   "id": "75e701e9-7a7c-4ea6-b770-afa2d742e86d",
   "metadata": {},
   "outputs": [],
   "source": [
    "def create_json_file(JSON_FILE,  delete_if_exists=False):\n",
    "    \n",
    "    ## Check if JSON_FILE exists\n",
    "    file_exists = os.path.isfile(JSON_FILE)\n",
    "    \n",
    "    ## If it DOES exist:\n",
    "    if file_exists == True:\n",
    "        \n",
    "        ## Check if user wants to delete if exists\n",
    "        if delete_if_exists==True:\n",
    "            \n",
    "            print(f\"[!] {JSON_FILE} already exists. Deleting previous file...\")\n",
    "            ## delete file and confirm it no longer exits.\n",
    "            os.remove(JSON_FILE)\n",
    "            ## Recursive call to function after old file deleted\n",
    "            create_json_file(JSON_FILE,delete_if_exists=False)\n",
    "        else:\n",
    "            print(f\"[i] {JSON_FILE} already exists.\")            \n",
    "            \n",
    "            \n",
    "    ## If it does NOT exist:\n",
    "    else:\n",
    "        \n",
    "        ## INFORM USER AND SAVE EMPTY LIST\n",
    "        print(f\"[i] {JSON_FILE} not found. Saving empty list to new file.\")\n",
    "        \n",
    "        ## CREATE ANY NEEDED FOLDERS\n",
    "        # Get the Folder Name only\n",
    "        folder = os.path.dirname(JSON_FILE)\n",
    "        \n",
    "        ## If JSON_FILE included a folder:\n",
    "        if len(folder)>0:\n",
    "            # create the folder\n",
    "            os.makedirs(folder,exist_ok=True)\n",
    "        ## Save empty list to start the json file\n",
    "        with open(JSON_FILE,'w') as f:\n",
    "            json.dump([],f)  \n"
   ]
  },
  {
   "cell_type": "code",
   "execution_count": 38,
   "id": "2aed5510-9498-4b9c-80ba-10bbb4585cea",
   "metadata": {},
   "outputs": [
    {
     "name": "stdout",
     "output_type": "stream",
     "text": [
      "[!] Data/results_in_progress_Livermore_sushi.json already exists. Deleting previous file...\n",
      "[i] Data/results_in_progress_Livermore_sushi.json not found. Saving empty list to new file.\n",
      "- 0 previous results found.\n"
     ]
    },
    {
     "data": {
      "text/plain": [
       "8"
      ]
     },
     "execution_count": 38,
     "metadata": {},
     "output_type": "execute_result"
    }
   ],
   "source": [
    "## Create a new empty json file (exist the previous if it exists)\n",
    "create_json_file(JSON_FILE, delete_if_exists=True)\n",
    "## Load previous results and use len of results for offset\n",
    "with open(JSON_FILE,'r') as f:\n",
    "    previous_results = json.load(f)\n",
    "    \n",
    "## set offset based on previous results\n",
    "n_results = len(previous_results)\n",
    "print(f'- {n_results} previous results found.')\n",
    "# use our yelp_api variable's search_query method to perform our API call\n",
    "results = yelp_api.search_query(location=LOCATION,\n",
    "                                term=TERM,\n",
    "                               offset=n_results)\n",
    "## How many results total?\n",
    "total_results = results['total']\n",
    "## How many did we get the details for?\n",
    "results_per_page = len(results['businesses'])\n",
    "# Use math.ceil to round up for the total number of pages of results.\n",
    "n_pages = math.ceil((results['total']-n_results)/ results_per_page)\n",
    "n_pages\n"
   ]
  },
  {
   "cell_type": "markdown",
   "id": "c63ea432-010c-43e7-8a63-d3d4015c5f35",
   "metadata": {},
   "source": [
    "- Now that we've deleted the file, we need to re-run our code to create it.\n",
    "\n",
    "- This process is begging to be turned into a function so we can we easily repeat it.\n",
    "\n",
    "- While we are making it a function, why don't we go ahead and add the option to delete the JSON file it if already exists, just like we did above.\n",
    "\n",
    "    - So let's make a create_json_file function that accepts the JSON_FILE filename as first argument and a second argument called delete_if_exists and set to it to False by default.\n",
    "\n",
    "    - This way, it will not automatically delete previous search results. We will have to explicitly say delete_if_exists = True to do so."
   ]
  },
  {
   "cell_type": "code",
   "execution_count": 39,
   "id": "d83c5dca-6b81-4b95-840f-ae333daf17fe",
   "metadata": {},
   "outputs": [
    {
     "data": {
      "application/vnd.jupyter.widget-view+json": {
       "model_id": "4927e8f7b82842cf86b62eb423b0828c",
       "version_major": 2,
       "version_minor": 0
      },
      "text/plain": [
       "  0%|          | 0/8 [00:00<?, ?it/s]"
      ]
     },
     "metadata": {},
     "output_type": "display_data"
    }
   ],
   "source": [
    "for i in tqdm_notebook( range(1,n_pages+1)):\n",
    "    \n",
    "    ## Read in results in progress file and check the length\n",
    "    with open(JSON_FILE, 'r') as f:\n",
    "        previous_results = json.load(f)\n",
    "    ## save number of results for to use as offset\n",
    "    n_results = len(previous_results)\n",
    "    \n",
    "    if (n_results + results_per_page) > 1000:\n",
    "        print('Exceeded 1000 api calls. Stopping loop.')\n",
    "        break\n",
    "    \n",
    "    ## use n_results as the OFFSET \n",
    "    results = yelp_api.search_query(location=LOCATION,\n",
    "                                    term=TERM, \n",
    "                                    offset=n_results)\n",
    "    \n",
    "    \n",
    "    \n",
    "    ## append new results and save to file\n",
    "    previous_results.extend(results['businesses'])\n",
    "    \n",
    "    # display(previous_results)\n",
    "    with open(JSON_FILE,'w') as f:\n",
    "        json.dump(previous_results,f)\n",
    "    \n",
    "    time.sleep(.2)"
   ]
  },
  {
   "cell_type": "markdown",
   "id": "b6df97b8-5512-46a8-8dec-bffffb416e31",
   "metadata": {},
   "source": [
    "### After the loop has finished"
   ]
  },
  {
   "cell_type": "markdown",
   "id": "30e98357-fa25-4107-83cc-f0e1f14b956a",
   "metadata": {},
   "source": [
    "> **Convert .json to dataframe** <br>\n",
    "Load in the \"results in progress\" JSON file into a DataFrame:"
   ]
  },
  {
   "cell_type": "code",
   "execution_count": 40,
   "id": "004ee645-251a-48b2-a2aa-96879f8c4f7e",
   "metadata": {},
   "outputs": [
    {
     "data": {
      "text/html": [
       "<div>\n",
       "<style scoped>\n",
       "    .dataframe tbody tr th:only-of-type {\n",
       "        vertical-align: middle;\n",
       "    }\n",
       "\n",
       "    .dataframe tbody tr th {\n",
       "        vertical-align: top;\n",
       "    }\n",
       "\n",
       "    .dataframe thead th {\n",
       "        text-align: right;\n",
       "    }\n",
       "</style>\n",
       "<table border=\"1\" class=\"dataframe\">\n",
       "  <thead>\n",
       "    <tr style=\"text-align: right;\">\n",
       "      <th></th>\n",
       "      <th>id</th>\n",
       "      <th>alias</th>\n",
       "      <th>name</th>\n",
       "      <th>image_url</th>\n",
       "      <th>is_closed</th>\n",
       "      <th>url</th>\n",
       "      <th>review_count</th>\n",
       "      <th>categories</th>\n",
       "      <th>rating</th>\n",
       "      <th>coordinates</th>\n",
       "      <th>transactions</th>\n",
       "      <th>price</th>\n",
       "      <th>location</th>\n",
       "      <th>phone</th>\n",
       "      <th>display_phone</th>\n",
       "      <th>distance</th>\n",
       "    </tr>\n",
       "  </thead>\n",
       "  <tbody>\n",
       "    <tr>\n",
       "      <th>0</th>\n",
       "      <td>HVFJjL-NlcihpJ8SbDDMoA</td>\n",
       "      <td>wasabi-bistro-livermore</td>\n",
       "      <td>Wasabi Bistro</td>\n",
       "      <td>https://s3-media2.fl.yelpcdn.com/bphoto/ZfhvoF...</td>\n",
       "      <td>False</td>\n",
       "      <td>https://www.yelp.com/biz/wasabi-bistro-livermo...</td>\n",
       "      <td>1190</td>\n",
       "      <td>[{'alias': 'japanese', 'title': 'Japanese'}, {...</td>\n",
       "      <td>4.0</td>\n",
       "      <td>{'latitude': 37.705833, 'longitude': -121.740718}</td>\n",
       "      <td>[pickup, delivery]</td>\n",
       "      <td>$$</td>\n",
       "      <td>{'address1': '922 Larkspur Dr', 'address2': 'S...</td>\n",
       "      <td>+19255792952</td>\n",
       "      <td>(925) 579-2952</td>\n",
       "      <td>4098.925263</td>\n",
       "    </tr>\n",
       "    <tr>\n",
       "      <th>1</th>\n",
       "      <td>L7Fx8RNlEe942jBi0b0sCA</td>\n",
       "      <td>tommy-katsu-livermore</td>\n",
       "      <td>Tommy Katsu</td>\n",
       "      <td>https://s3-media2.fl.yelpcdn.com/bphoto/rnLNDc...</td>\n",
       "      <td>False</td>\n",
       "      <td>https://www.yelp.com/biz/tommy-katsu-livermore...</td>\n",
       "      <td>228</td>\n",
       "      <td>[{'alias': 'japanese', 'title': 'Japanese'}, {...</td>\n",
       "      <td>4.5</td>\n",
       "      <td>{'latitude': 37.6998473121529, 'longitude': -1...</td>\n",
       "      <td>[pickup, delivery]</td>\n",
       "      <td>$$</td>\n",
       "      <td>{'address1': '2476 Las Positas Rd', 'address2'...</td>\n",
       "      <td>+19255835289</td>\n",
       "      <td>(925) 583-5289</td>\n",
       "      <td>2331.119846</td>\n",
       "    </tr>\n",
       "    <tr>\n",
       "      <th>2</th>\n",
       "      <td>qy3odDKGWuzh0dMnqIXIxQ</td>\n",
       "      <td>roppongi-sushi-livermore</td>\n",
       "      <td>Roppongi Sushi</td>\n",
       "      <td>https://s3-media3.fl.yelpcdn.com/bphoto/TwUiTe...</td>\n",
       "      <td>False</td>\n",
       "      <td>https://www.yelp.com/biz/roppongi-sushi-liverm...</td>\n",
       "      <td>414</td>\n",
       "      <td>[{'alias': 'japanese', 'title': 'Japanese'}, {...</td>\n",
       "      <td>4.0</td>\n",
       "      <td>{'latitude': 37.68185, 'longitude': -121.76906}</td>\n",
       "      <td>[pickup, delivery]</td>\n",
       "      <td>$$</td>\n",
       "      <td>{'address1': '2206 1st St', 'address2': '', 'a...</td>\n",
       "      <td>+19255835101</td>\n",
       "      <td>(925) 583-5101</td>\n",
       "      <td>446.148773</td>\n",
       "    </tr>\n",
       "    <tr>\n",
       "      <th>3</th>\n",
       "      <td>wse-Ef6mHk0MzsxslTYjww</td>\n",
       "      <td>amakara-dublin</td>\n",
       "      <td>Amakara</td>\n",
       "      <td>https://s3-media1.fl.yelpcdn.com/bphoto/ffDQGj...</td>\n",
       "      <td>False</td>\n",
       "      <td>https://www.yelp.com/biz/amakara-dublin?adjust...</td>\n",
       "      <td>3122</td>\n",
       "      <td>[{'alias': 'sushi', 'title': 'Sushi Bars'}, {'...</td>\n",
       "      <td>4.0</td>\n",
       "      <td>{'latitude': 37.704023, 'longitude': -121.929133}</td>\n",
       "      <td>[pickup, delivery]</td>\n",
       "      <td>$$</td>\n",
       "      <td>{'address1': '7568 Dublin Blvd', 'address2': '...</td>\n",
       "      <td>+19258038485</td>\n",
       "      <td>(925) 803-8485</td>\n",
       "      <td>14066.122597</td>\n",
       "    </tr>\n",
       "    <tr>\n",
       "      <th>4</th>\n",
       "      <td>hrIOPvSc4s3jXfIhn4M1pg</td>\n",
       "      <td>sushi-zone-livermore</td>\n",
       "      <td>Sushi Zone</td>\n",
       "      <td>https://s3-media1.fl.yelpcdn.com/bphoto/FCkSw6...</td>\n",
       "      <td>False</td>\n",
       "      <td>https://www.yelp.com/biz/sushi-zone-livermore?...</td>\n",
       "      <td>290</td>\n",
       "      <td>[{'alias': 'sushi', 'title': 'Sushi Bars'}, {'...</td>\n",
       "      <td>4.0</td>\n",
       "      <td>{'latitude': 37.6800349, 'longitude': -121.746...</td>\n",
       "      <td>[pickup, delivery]</td>\n",
       "      <td>$$</td>\n",
       "      <td>{'address1': '4094 East Ave', 'address2': '', ...</td>\n",
       "      <td>+19254556868</td>\n",
       "      <td>(925) 455-6868</td>\n",
       "      <td>2236.528457</td>\n",
       "    </tr>\n",
       "  </tbody>\n",
       "</table>\n",
       "</div>"
      ],
      "text/plain": [
       "                       id                     alias            name  \\\n",
       "0  HVFJjL-NlcihpJ8SbDDMoA   wasabi-bistro-livermore   Wasabi Bistro   \n",
       "1  L7Fx8RNlEe942jBi0b0sCA     tommy-katsu-livermore     Tommy Katsu   \n",
       "2  qy3odDKGWuzh0dMnqIXIxQ  roppongi-sushi-livermore  Roppongi Sushi   \n",
       "3  wse-Ef6mHk0MzsxslTYjww            amakara-dublin         Amakara   \n",
       "4  hrIOPvSc4s3jXfIhn4M1pg      sushi-zone-livermore      Sushi Zone   \n",
       "\n",
       "                                           image_url  is_closed  \\\n",
       "0  https://s3-media2.fl.yelpcdn.com/bphoto/ZfhvoF...      False   \n",
       "1  https://s3-media2.fl.yelpcdn.com/bphoto/rnLNDc...      False   \n",
       "2  https://s3-media3.fl.yelpcdn.com/bphoto/TwUiTe...      False   \n",
       "3  https://s3-media1.fl.yelpcdn.com/bphoto/ffDQGj...      False   \n",
       "4  https://s3-media1.fl.yelpcdn.com/bphoto/FCkSw6...      False   \n",
       "\n",
       "                                                 url  review_count  \\\n",
       "0  https://www.yelp.com/biz/wasabi-bistro-livermo...          1190   \n",
       "1  https://www.yelp.com/biz/tommy-katsu-livermore...           228   \n",
       "2  https://www.yelp.com/biz/roppongi-sushi-liverm...           414   \n",
       "3  https://www.yelp.com/biz/amakara-dublin?adjust...          3122   \n",
       "4  https://www.yelp.com/biz/sushi-zone-livermore?...           290   \n",
       "\n",
       "                                          categories  rating  \\\n",
       "0  [{'alias': 'japanese', 'title': 'Japanese'}, {...     4.0   \n",
       "1  [{'alias': 'japanese', 'title': 'Japanese'}, {...     4.5   \n",
       "2  [{'alias': 'japanese', 'title': 'Japanese'}, {...     4.0   \n",
       "3  [{'alias': 'sushi', 'title': 'Sushi Bars'}, {'...     4.0   \n",
       "4  [{'alias': 'sushi', 'title': 'Sushi Bars'}, {'...     4.0   \n",
       "\n",
       "                                         coordinates        transactions  \\\n",
       "0  {'latitude': 37.705833, 'longitude': -121.740718}  [pickup, delivery]   \n",
       "1  {'latitude': 37.6998473121529, 'longitude': -1...  [pickup, delivery]   \n",
       "2    {'latitude': 37.68185, 'longitude': -121.76906}  [pickup, delivery]   \n",
       "3  {'latitude': 37.704023, 'longitude': -121.929133}  [pickup, delivery]   \n",
       "4  {'latitude': 37.6800349, 'longitude': -121.746...  [pickup, delivery]   \n",
       "\n",
       "  price                                           location         phone  \\\n",
       "0    $$  {'address1': '922 Larkspur Dr', 'address2': 'S...  +19255792952   \n",
       "1    $$  {'address1': '2476 Las Positas Rd', 'address2'...  +19255835289   \n",
       "2    $$  {'address1': '2206 1st St', 'address2': '', 'a...  +19255835101   \n",
       "3    $$  {'address1': '7568 Dublin Blvd', 'address2': '...  +19258038485   \n",
       "4    $$  {'address1': '4094 East Ave', 'address2': '', ...  +19254556868   \n",
       "\n",
       "    display_phone      distance  \n",
       "0  (925) 579-2952   4098.925263  \n",
       "1  (925) 583-5289   2331.119846  \n",
       "2  (925) 583-5101    446.148773  \n",
       "3  (925) 803-8485  14066.122597  \n",
       "4  (925) 455-6868   2236.528457  "
      ]
     },
     "metadata": {},
     "output_type": "display_data"
    },
    {
     "data": {
      "text/html": [
       "<div>\n",
       "<style scoped>\n",
       "    .dataframe tbody tr th:only-of-type {\n",
       "        vertical-align: middle;\n",
       "    }\n",
       "\n",
       "    .dataframe tbody tr th {\n",
       "        vertical-align: top;\n",
       "    }\n",
       "\n",
       "    .dataframe thead th {\n",
       "        text-align: right;\n",
       "    }\n",
       "</style>\n",
       "<table border=\"1\" class=\"dataframe\">\n",
       "  <thead>\n",
       "    <tr style=\"text-align: right;\">\n",
       "      <th></th>\n",
       "      <th>id</th>\n",
       "      <th>alias</th>\n",
       "      <th>name</th>\n",
       "      <th>image_url</th>\n",
       "      <th>is_closed</th>\n",
       "      <th>url</th>\n",
       "      <th>review_count</th>\n",
       "      <th>categories</th>\n",
       "      <th>rating</th>\n",
       "      <th>coordinates</th>\n",
       "      <th>transactions</th>\n",
       "      <th>price</th>\n",
       "      <th>location</th>\n",
       "      <th>phone</th>\n",
       "      <th>display_phone</th>\n",
       "      <th>distance</th>\n",
       "    </tr>\n",
       "  </thead>\n",
       "  <tbody>\n",
       "    <tr>\n",
       "      <th>150</th>\n",
       "      <td>LJv5A3AKCTRKSLuv43lprQ</td>\n",
       "      <td>safeway-san-ramon-5</td>\n",
       "      <td>Safeway</td>\n",
       "      <td>https://s3-media1.fl.yelpcdn.com/bphoto/E9t32Y...</td>\n",
       "      <td>False</td>\n",
       "      <td>https://www.yelp.com/biz/safeway-san-ramon-5?a...</td>\n",
       "      <td>211</td>\n",
       "      <td>[{'alias': 'grocery', 'title': 'Grocery'}]</td>\n",
       "      <td>2.5</td>\n",
       "      <td>{'latitude': 37.7731741, 'longitude': -121.976...</td>\n",
       "      <td>[]</td>\n",
       "      <td>$$</td>\n",
       "      <td>{'address1': '2505 San Ramon Valley Blvd', 'ad...</td>\n",
       "      <td>+19258319515</td>\n",
       "      <td>(925) 831-9515</td>\n",
       "      <td>20798.853682</td>\n",
       "    </tr>\n",
       "    <tr>\n",
       "      <th>151</th>\n",
       "      <td>wQm1FDUkLlqHRj6eQbPsBg</td>\n",
       "      <td>safeway-dublin-5</td>\n",
       "      <td>Safeway</td>\n",
       "      <td>https://s3-media3.fl.yelpcdn.com/bphoto/6T9Sst...</td>\n",
       "      <td>False</td>\n",
       "      <td>https://www.yelp.com/biz/safeway-dublin-5?adju...</td>\n",
       "      <td>138</td>\n",
       "      <td>[{'alias': 'grocery', 'title': 'Grocery'}]</td>\n",
       "      <td>2.5</td>\n",
       "      <td>{'latitude': 37.7060094, 'longitude': -121.927...</td>\n",
       "      <td>[pickup]</td>\n",
       "      <td>$$</td>\n",
       "      <td>{'address1': '7499 Dublin Blvd', 'address2': '...</td>\n",
       "      <td>+19255564034</td>\n",
       "      <td>(925) 556-4034</td>\n",
       "      <td>13961.593399</td>\n",
       "    </tr>\n",
       "    <tr>\n",
       "      <th>152</th>\n",
       "      <td>iR9FDFTEQpKEU9Wo7w_3tw</td>\n",
       "      <td>eddie-papas-american-hangout-pleasanton-3</td>\n",
       "      <td>Eddie Papas American Hangout</td>\n",
       "      <td>https://s3-media4.fl.yelpcdn.com/bphoto/pFbfQ4...</td>\n",
       "      <td>False</td>\n",
       "      <td>https://www.yelp.com/biz/eddie-papas-american-...</td>\n",
       "      <td>1212</td>\n",
       "      <td>[{'alias': 'newamerican', 'title': 'American (...</td>\n",
       "      <td>3.5</td>\n",
       "      <td>{'latitude': 37.6934542, 'longitude': -121.903...</td>\n",
       "      <td>[delivery, pickup]</td>\n",
       "      <td>$$</td>\n",
       "      <td>{'address1': '4889 Hopyard Rd', 'address2': ''...</td>\n",
       "      <td>+19254696266</td>\n",
       "      <td>(925) 469-6266</td>\n",
       "      <td>11592.292598</td>\n",
       "    </tr>\n",
       "    <tr>\n",
       "      <th>153</th>\n",
       "      <td>h8IQD-FW3kbFVzFgREXM3A</td>\n",
       "      <td>the-habit-burger-grill-san-ramon</td>\n",
       "      <td>The Habit Burger Grill</td>\n",
       "      <td>https://s3-media1.fl.yelpcdn.com/bphoto/wzO9Vr...</td>\n",
       "      <td>False</td>\n",
       "      <td>https://www.yelp.com/biz/the-habit-burger-gril...</td>\n",
       "      <td>397</td>\n",
       "      <td>[{'alias': 'burgers', 'title': 'Burgers'}, {'a...</td>\n",
       "      <td>3.0</td>\n",
       "      <td>{'latitude': 37.778764079586196, 'longitude': ...</td>\n",
       "      <td>[delivery]</td>\n",
       "      <td>$</td>\n",
       "      <td>{'address1': '3121 Crow Canyon Pl.', 'address2...</td>\n",
       "      <td>+19253559672</td>\n",
       "      <td>(925) 355-9672</td>\n",
       "      <td>20582.444717</td>\n",
       "    </tr>\n",
       "    <tr>\n",
       "      <th>154</th>\n",
       "      <td>02ueACFl6FGXIfvQsxIFPA</td>\n",
       "      <td>the-habit-burger-grill-dublin</td>\n",
       "      <td>The Habit Burger Grill</td>\n",
       "      <td>https://s3-media1.fl.yelpcdn.com/bphoto/AoMLty...</td>\n",
       "      <td>False</td>\n",
       "      <td>https://www.yelp.com/biz/the-habit-burger-gril...</td>\n",
       "      <td>348</td>\n",
       "      <td>[{'alias': 'burgers', 'title': 'Burgers'}, {'a...</td>\n",
       "      <td>3.5</td>\n",
       "      <td>{'latitude': 37.708726, 'longitude': -121.930376}</td>\n",
       "      <td>[delivery]</td>\n",
       "      <td>$</td>\n",
       "      <td>{'address1': '7295 Amador Plz Rd', 'address2':...</td>\n",
       "      <td>+19258759648</td>\n",
       "      <td>(925) 875-9648</td>\n",
       "      <td>14288.520357</td>\n",
       "    </tr>\n",
       "  </tbody>\n",
       "</table>\n",
       "</div>"
      ],
      "text/plain": [
       "                         id                                      alias  \\\n",
       "150  LJv5A3AKCTRKSLuv43lprQ                        safeway-san-ramon-5   \n",
       "151  wQm1FDUkLlqHRj6eQbPsBg                           safeway-dublin-5   \n",
       "152  iR9FDFTEQpKEU9Wo7w_3tw  eddie-papas-american-hangout-pleasanton-3   \n",
       "153  h8IQD-FW3kbFVzFgREXM3A           the-habit-burger-grill-san-ramon   \n",
       "154  02ueACFl6FGXIfvQsxIFPA              the-habit-burger-grill-dublin   \n",
       "\n",
       "                             name  \\\n",
       "150                       Safeway   \n",
       "151                       Safeway   \n",
       "152  Eddie Papas American Hangout   \n",
       "153        The Habit Burger Grill   \n",
       "154        The Habit Burger Grill   \n",
       "\n",
       "                                             image_url  is_closed  \\\n",
       "150  https://s3-media1.fl.yelpcdn.com/bphoto/E9t32Y...      False   \n",
       "151  https://s3-media3.fl.yelpcdn.com/bphoto/6T9Sst...      False   \n",
       "152  https://s3-media4.fl.yelpcdn.com/bphoto/pFbfQ4...      False   \n",
       "153  https://s3-media1.fl.yelpcdn.com/bphoto/wzO9Vr...      False   \n",
       "154  https://s3-media1.fl.yelpcdn.com/bphoto/AoMLty...      False   \n",
       "\n",
       "                                                   url  review_count  \\\n",
       "150  https://www.yelp.com/biz/safeway-san-ramon-5?a...           211   \n",
       "151  https://www.yelp.com/biz/safeway-dublin-5?adju...           138   \n",
       "152  https://www.yelp.com/biz/eddie-papas-american-...          1212   \n",
       "153  https://www.yelp.com/biz/the-habit-burger-gril...           397   \n",
       "154  https://www.yelp.com/biz/the-habit-burger-gril...           348   \n",
       "\n",
       "                                            categories  rating  \\\n",
       "150         [{'alias': 'grocery', 'title': 'Grocery'}]     2.5   \n",
       "151         [{'alias': 'grocery', 'title': 'Grocery'}]     2.5   \n",
       "152  [{'alias': 'newamerican', 'title': 'American (...     3.5   \n",
       "153  [{'alias': 'burgers', 'title': 'Burgers'}, {'a...     3.0   \n",
       "154  [{'alias': 'burgers', 'title': 'Burgers'}, {'a...     3.5   \n",
       "\n",
       "                                           coordinates        transactions  \\\n",
       "150  {'latitude': 37.7731741, 'longitude': -121.976...                  []   \n",
       "151  {'latitude': 37.7060094, 'longitude': -121.927...            [pickup]   \n",
       "152  {'latitude': 37.6934542, 'longitude': -121.903...  [delivery, pickup]   \n",
       "153  {'latitude': 37.778764079586196, 'longitude': ...          [delivery]   \n",
       "154  {'latitude': 37.708726, 'longitude': -121.930376}          [delivery]   \n",
       "\n",
       "    price                                           location         phone  \\\n",
       "150    $$  {'address1': '2505 San Ramon Valley Blvd', 'ad...  +19258319515   \n",
       "151    $$  {'address1': '7499 Dublin Blvd', 'address2': '...  +19255564034   \n",
       "152    $$  {'address1': '4889 Hopyard Rd', 'address2': ''...  +19254696266   \n",
       "153     $  {'address1': '3121 Crow Canyon Pl.', 'address2...  +19253559672   \n",
       "154     $  {'address1': '7295 Amador Plz Rd', 'address2':...  +19258759648   \n",
       "\n",
       "      display_phone      distance  \n",
       "150  (925) 831-9515  20798.853682  \n",
       "151  (925) 556-4034  13961.593399  \n",
       "152  (925) 469-6266  11592.292598  \n",
       "153  (925) 355-9672  20582.444717  \n",
       "154  (925) 875-9648  14288.520357  "
      ]
     },
     "metadata": {},
     "output_type": "display_data"
    }
   ],
   "source": [
    "# load final results\n",
    "final_df = pd.read_json(JSON_FILE)\n",
    "display(final_df.head(), final_df.tail())"
   ]
  },
  {
   "cell_type": "markdown",
   "id": "9cfc292b-03e5-434c-ad0c-1aae477ad6fc",
   "metadata": {},
   "source": [
    "### Check for duplicates"
   ]
  },
  {
   "cell_type": "code",
   "execution_count": 41,
   "id": "0dacc61a-9824-45e8-aac9-05eec8e295d4",
   "metadata": {},
   "outputs": [
    {
     "data": {
      "text/plain": [
       "0"
      ]
     },
     "execution_count": 41,
     "metadata": {},
     "output_type": "execute_result"
    }
   ],
   "source": [
    "# check for duplicate ID's \n",
    "final_df.duplicated(subset='id').sum()"
   ]
  },
  {
   "cell_type": "code",
   "execution_count": 42,
   "id": "b974762a-5b12-427a-a8a4-ff2318746303",
   "metadata": {},
   "outputs": [
    {
     "data": {
      "text/plain": [
       "0"
      ]
     },
     "execution_count": 42,
     "metadata": {},
     "output_type": "execute_result"
    }
   ],
   "source": [
    "## Drop duplicate ids and confirm there are no more duplicates\n",
    "final_df = final_df.drop_duplicates(subset='id')\n",
    "final_df.duplicated(subset='id').sum()"
   ]
  },
  {
   "cell_type": "markdown",
   "id": "51fb8a4c-d54c-4628-944b-33668e81ee1c",
   "metadata": {},
   "source": [
    "### Save the final DataFrame to a .csv (or a .csv.gz if its too big for the GitHub file size limit)."
   ]
  },
  {
   "cell_type": "code",
   "execution_count": 43,
   "id": "5352e2c4-6b02-4158-8cbe-65bcb98d3ee3",
   "metadata": {},
   "outputs": [],
   "source": [
    "# save the final results to a compressed csv\n",
    "final_df.to_csv('Data/final_results_Livermore_sushi.csv.gz', compression='gzip',index=False)"
   ]
  },
  {
   "cell_type": "code",
   "execution_count": null,
   "id": "a873b68d-87c9-4322-8ecf-fbf01c7c607e",
   "metadata": {},
   "outputs": [],
   "source": []
  }
 ],
 "metadata": {
  "kernelspec": {
   "display_name": "Python 3 (ipykernel)",
   "language": "python",
   "name": "python3"
  },
  "language_info": {
   "codemirror_mode": {
    "name": "ipython",
    "version": 3
   },
   "file_extension": ".py",
   "mimetype": "text/x-python",
   "name": "python",
   "nbconvert_exporter": "python",
   "pygments_lexer": "ipython3",
   "version": "3.9.15"
  }
 },
 "nbformat": 4,
 "nbformat_minor": 5
}
